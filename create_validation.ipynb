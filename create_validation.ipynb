{
 "cells": [
  {
   "cell_type": "code",
   "execution_count": 22,
   "metadata": {
    "collapsed": true
   },
   "outputs": [],
   "source": [
    "import os\n",
    "import numpy as np\n",
    "\n",
    "classes = os.listdir('./train')"
   ]
  },
  {
   "cell_type": "code",
   "execution_count": 25,
   "metadata": {
    "collapsed": false
   },
   "outputs": [
    {
     "name": "stdout",
     "output_type": "stream",
     "text": [
      "DOL 117\n",
      "validation set for created for class: DOL  -- number of images: 23\n",
      "BET 200\n",
      "validation set for created for class: BET  -- number of images: 40\n",
      "NoF 465\n",
      "validation set for created for class: NoF  -- number of images: 93\n",
      "OTHER 299\n",
      "validation set for created for class: OTHER  -- number of images: 60\n",
      "LAG 67\n",
      "validation set for created for class: LAG  -- number of images: 13\n",
      "ALB 1719\n",
      "validation set for created for class: ALB  -- number of images: 344\n",
      "YFT 734\n",
      "validation set for created for class: YFT  -- number of images: 147\n",
      "SHARK 176\n",
      "validation set for created for class: SHARK  -- number of images: 35\n"
     ]
    }
   ],
   "source": [
    "for sub in classes:\n",
    "    full_sub = './train/{s}'.format(s=sub)\n",
    "    print(sub, len(os.listdir(full_sub)))\n",
    "    sublist = os.listdir(full_sub)\n",
    "    files_to_move = np.random.choice(sublist, size=round(0.20 * len(sublist)),replace=False)\n",
    "    # 80 % train and 20% validation\n",
    "    dest = './valid/{s}'.format(s=sub)\n",
    "    for img in files_to_move:\n",
    "        os.rename(full_sub + '/' + img, dest + '/' + img)\n",
    "    print('validation set for created for class:',sub, ' -- number of images:',len(files_to_move))"
   ]
  }
 ],
 "metadata": {
  "anaconda-cloud": {},
  "kernelspec": {
   "display_name": "Python [conda env:deepenv]",
   "language": "python",
   "name": "conda-env-deepenv-py"
  },
  "language_info": {
   "codemirror_mode": {
    "name": "ipython",
    "version": 3
   },
   "file_extension": ".py",
   "mimetype": "text/x-python",
   "name": "python",
   "nbconvert_exporter": "python",
   "pygments_lexer": "ipython3",
   "version": "3.5.3"
  }
 },
 "nbformat": 4,
 "nbformat_minor": 1
}
