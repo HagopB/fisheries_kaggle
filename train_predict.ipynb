{
 "cells": [
  {
   "cell_type": "code",
   "execution_count": 1,
   "metadata": {
    "collapsed": false
   },
   "outputs": [
    {
     "name": "stderr",
     "output_type": "stream",
     "text": [
      "Using TensorFlow backend.\n"
     ]
    }
   ],
   "source": [
    "import os\n",
    "from convnets import *\n",
    "from __future__ import division, print_function\n",
    "\n",
    "%matplotlib inline\n",
    "\n",
    "from keras.backend.tensorflow_backend import set_session\n",
    "\n",
    "config = tf.ConfigProto()\n",
    "config.gpu_options.per_process_gpu_memory_fraction = 0.9\n",
    "set_session(tf.Session(config=config))"
   ]
  },
  {
   "cell_type": "markdown",
   "metadata": {},
   "source": [
    "# The Nature Conservancy: Fisheries Monitoring\n",
    "The Conservancy has invited the Kaggle community to develop algorithms to automatically detect and classify species of tunas, sharks and more that fishing boats catch, which will accelerate the video review process.\n",
    "\n",
    "We will apply transfer learning using the pretrained model VGG16, and replacing the top \"classification\" layers with:\n",
    "- MLP augmented with dropout and batch-normalization\n",
    "- fullcy convolutional classifier"
   ]
  },
  {
   "cell_type": "markdown",
   "metadata": {},
   "source": [
    "## Getting Bottleneck features"
   ]
  },
  {
   "cell_type": "code",
   "execution_count": 2,
   "metadata": {
    "collapsed": true
   },
   "outputs": [],
   "source": [
    "train_path = './train/'\n",
    "valid_path = './valid/'\n",
    "test_path = './test/'\n",
    "batch_size=32"
   ]
  },
  {
   "cell_type": "code",
   "execution_count": 3,
   "metadata": {
    "collapsed": false
   },
   "outputs": [
    {
     "name": "stdout",
     "output_type": "stream",
     "text": [
      "Found 3022 images belonging to 8 classes.\n",
      "Found 755 images belonging to 8 classes.\n"
     ]
    }
   ],
   "source": [
    "model = get_VGG16()\n",
    "train_bottleneck = get_batches(train_path,batch_size=batch_size,shuffle=False)\n",
    "valid_bottleneck = get_batches(valid_path,batch_size=batch_size,shuffle=False)"
   ]
  },
  {
   "cell_type": "code",
   "execution_count": 4,
   "metadata": {
    "collapsed": false
   },
   "outputs": [
    {
     "name": "stdout",
     "output_type": "stream",
     "text": [
      "Getting bottleneck features for train\n",
      "Getting bottleneck features for validation\n",
      "CPU times: user 2min 11s, sys: 11.5 s, total: 2min 22s\n",
      "Wall time: 1min 12s\n"
     ]
    }
   ],
   "source": [
    "%%time\n",
    "print('Getting bottleneck features for train')\n",
    "bottleneck_features_train = model.predict_generator(train_bottleneck, train_bottleneck.samples // batch_size)\n",
    "np.save(open('./initial_files/train_bottleneck.npy', 'wb'), bottleneck_features_train)\n",
    "\n",
    "print('Getting bottleneck features for validation')\n",
    "bottleneck_features_validation = model.predict_generator(valid_bottleneck, valid_bottleneck.samples // batch_size)\n",
    "np.save(open('./initial_files/valid_bottleneck.npy', 'wb'), bottleneck_features_validation)"
   ]
  },
  {
   "cell_type": "markdown",
   "metadata": {},
   "source": [
    "## Fitting\n",
    "#### 1 - MLP augmented with dropout and batch-normalization"
   ]
  },
  {
   "cell_type": "code",
   "execution_count": 5,
   "metadata": {
    "collapsed": false
   },
   "outputs": [
    {
     "name": "stdout",
     "output_type": "stream",
     "text": [
      "_________________________________________________________________\n",
      "Layer (type)                 Output Shape              Param #   \n",
      "=================================================================\n",
      "top_maxpooling (MaxPooling2D (None, 3, 3, 512)         0         \n",
      "_________________________________________________________________\n",
      "batch_normalization_1 (Batch (None, 3, 3, 512)         2048      \n",
      "_________________________________________________________________\n",
      "dropout_1 (Dropout)          (None, 3, 3, 512)         0         \n",
      "_________________________________________________________________\n",
      "top_flatten (Flatten)        (None, 4608)              0         \n",
      "_________________________________________________________________\n",
      "top_relu_1 (Dense)           (None, 512)               2359808   \n",
      "_________________________________________________________________\n",
      "batch_normalization_2 (Batch (None, 512)               2048      \n",
      "_________________________________________________________________\n",
      "dropout_2 (Dropout)          (None, 512)               0         \n",
      "_________________________________________________________________\n",
      "top_relu_2 (Dense)           (None, 512)               262656    \n",
      "_________________________________________________________________\n",
      "batch_normalization_3 (Batch (None, 512)               2048      \n",
      "_________________________________________________________________\n",
      "dropout_3 (Dropout)          (None, 512)               0         \n",
      "_________________________________________________________________\n",
      "dense_1 (Dense)              (None, 8)                 4104      \n",
      "=================================================================\n",
      "Total params: 2,632,712.0\n",
      "Trainable params: 2,629,640.0\n",
      "Non-trainable params: 3,072.0\n",
      "_________________________________________________________________\n"
     ]
    }
   ],
   "source": [
    "mlp_vgg = top_model_vgg(n_classes=train_bottleneck.num_class,dense_neurons=512,lr=0.001,do=0.5)\n",
    "mlp_vgg.summary()"
   ]
  },
  {
   "cell_type": "code",
   "execution_count": 6,
   "metadata": {
    "collapsed": false
   },
   "outputs": [
    {
     "name": "stdout",
     "output_type": "stream",
     "text": [
      "Train on 3008 samples, validate on 736 samples\n",
      "Epoch 1/10\n",
      "3008/3008 [==============================] - 2s - loss: 1.7067 - acc: 0.5186 - val_loss: 0.7576 - val_acc: 0.8084\n",
      "Epoch 2/10\n",
      "3008/3008 [==============================] - 1s - loss: 0.7557 - acc: 0.7733 - val_loss: 0.4603 - val_acc: 0.8628\n",
      "Epoch 3/10\n",
      "3008/3008 [==============================] - 1s - loss: 0.4925 - acc: 0.8497 - val_loss: 0.3405 - val_acc: 0.9090\n",
      "Epoch 4/10\n",
      "3008/3008 [==============================] - 1s - loss: 0.3992 - acc: 0.8777 - val_loss: 0.3708 - val_acc: 0.9090\n",
      "Epoch 5/10\n",
      "3008/3008 [==============================] - 1s - loss: 0.3197 - acc: 0.9003 - val_loss: 0.2475 - val_acc: 0.9443\n",
      "Epoch 6/10\n",
      "3008/3008 [==============================] - 1s - loss: 0.2470 - acc: 0.9189 - val_loss: 0.2429 - val_acc: 0.9511\n",
      "Epoch 7/10\n",
      "3008/3008 [==============================] - 1s - loss: 0.2092 - acc: 0.9332 - val_loss: 0.2378 - val_acc: 0.9484\n",
      "Epoch 8/10\n",
      "3008/3008 [==============================] - 1s - loss: 0.2006 - acc: 0.9398 - val_loss: 0.2592 - val_acc: 0.9470\n",
      "Epoch 9/10\n",
      "3008/3008 [==============================] - 1s - loss: 0.1772 - acc: 0.9471 - val_loss: 0.2591 - val_acc: 0.9457\n",
      "Epoch 10/10\n",
      "3008/3008 [==============================] - 1s - loss: 0.1561 - acc: 0.9475 - val_loss: 0.2272 - val_acc: 0.9579\n"
     ]
    },
    {
     "data": {
      "text/plain": [
       "<keras.callbacks.History at 0x7f1544f60588>"
      ]
     },
     "execution_count": 6,
     "metadata": {},
     "output_type": "execute_result"
    }
   ],
   "source": [
    "mlp_vgg.fit(bottleneck_features_train,\n",
    "          np_utils.to_categorical(train_bottleneck.classes[:len(bottleneck_features_train)]),\n",
    "          epochs = 10,\n",
    "          batch_size = batch_size,\n",
    "          validation_data = (bottleneck_features_validation,\n",
    "                             np_utils.to_categorical(valid_bottleneck.classes[:len(bottleneck_features_validation)])))"
   ]
  },
  {
   "cell_type": "markdown",
   "metadata": {},
   "source": [
    "#### 2 - Fully onvolutional layers"
   ]
  },
  {
   "cell_type": "code",
   "execution_count": 7,
   "metadata": {
    "collapsed": false
   },
   "outputs": [
    {
     "name": "stdout",
     "output_type": "stream",
     "text": [
      "_________________________________________________________________\n",
      "Layer (type)                 Output Shape              Param #   \n",
      "=================================================================\n",
      "batch_normalization_4 (Batch (None, 7, 7, 512)         2048      \n",
      "_________________________________________________________________\n",
      "conv2d_1 (Conv2D)            (None, 7, 7, 256)         1179904   \n",
      "_________________________________________________________________\n",
      "batch_normalization_5 (Batch (None, 7, 7, 256)         1024      \n",
      "_________________________________________________________________\n",
      "conv2d_2 (Conv2D)            (None, 7, 7, 256)         590080    \n",
      "_________________________________________________________________\n",
      "batch_normalization_6 (Batch (None, 7, 7, 256)         1024      \n",
      "_________________________________________________________________\n",
      "conv2d_3 (Conv2D)            (None, 7, 7, 256)         590080    \n",
      "_________________________________________________________________\n",
      "batch_normalization_7 (Batch (None, 7, 7, 256)         1024      \n",
      "_________________________________________________________________\n",
      "conv2d_4 (Conv2D)            (None, 7, 7, 8)           18440     \n",
      "_________________________________________________________________\n",
      "dropout_4 (Dropout)          (None, 7, 7, 8)           0         \n",
      "_________________________________________________________________\n",
      "global_average_pooling2d_1 ( (None, 8)                 0         \n",
      "_________________________________________________________________\n",
      "activation_1 (Activation)    (None, 8)                 0         \n",
      "=================================================================\n",
      "Total params: 2,383,624.0\n",
      "Trainable params: 2,381,064.0\n",
      "Non-trainable params: 2,560.0\n",
      "_________________________________________________________________\n"
     ]
    }
   ],
   "source": [
    "model_fc = heat_layers(n_classes=train_bottleneck.num_class,n_fm=256,do=0.5,lr=0.001)\n",
    "model_fc.summary()"
   ]
  },
  {
   "cell_type": "code",
   "execution_count": 8,
   "metadata": {
    "collapsed": false
   },
   "outputs": [
    {
     "name": "stdout",
     "output_type": "stream",
     "text": [
      "Train on 3008 samples, validate on 736 samples\n",
      "Epoch 1/10\n",
      "3008/3008 [==============================] - 4s - loss: 0.9010 - acc: 0.7151 - val_loss: 1.5216 - val_acc: 0.4280\n",
      "Epoch 2/10\n",
      "3008/3008 [==============================] - 3s - loss: 0.3325 - acc: 0.8946 - val_loss: 0.7374 - val_acc: 0.7649\n",
      "Epoch 3/10\n",
      "3008/3008 [==============================] - 3s - loss: 0.1607 - acc: 0.9471 - val_loss: 0.5616 - val_acc: 0.8655\n",
      "Epoch 4/10\n",
      "3008/3008 [==============================] - 3s - loss: 0.1033 - acc: 0.9674 - val_loss: 0.3584 - val_acc: 0.9158\n",
      "Epoch 5/10\n",
      "3008/3008 [==============================] - 3s - loss: 0.1082 - acc: 0.9651 - val_loss: 0.4808 - val_acc: 0.9090\n",
      "Epoch 6/10\n",
      "3008/3008 [==============================] - 3s - loss: 0.0745 - acc: 0.9764 - val_loss: 0.3894 - val_acc: 0.9239\n",
      "Epoch 7/10\n",
      "3008/3008 [==============================] - 3s - loss: 0.0515 - acc: 0.9850 - val_loss: 0.3049 - val_acc: 0.9416\n",
      "Epoch 8/10\n",
      "3008/3008 [==============================] - 3s - loss: 0.0238 - acc: 0.9920 - val_loss: 0.3864 - val_acc: 0.9212\n",
      "Epoch 9/10\n",
      "3008/3008 [==============================] - 3s - loss: 0.0596 - acc: 0.9864 - val_loss: 0.3270 - val_acc: 0.9348\n",
      "Epoch 10/10\n",
      "3008/3008 [==============================] - 3s - loss: 0.0586 - acc: 0.9850 - val_loss: 0.3748 - val_acc: 0.9361\n"
     ]
    },
    {
     "data": {
      "text/plain": [
       "<keras.callbacks.History at 0x7f153e036c18>"
      ]
     },
     "execution_count": 8,
     "metadata": {},
     "output_type": "execute_result"
    }
   ],
   "source": [
    "model_fc.fit(bottleneck_features_train,\n",
    "             np_utils.to_categorical(train_bottleneck.classes[:len(bottleneck_features_train)]),\n",
    "             epochs = 10,\n",
    "             batch_size = batch_size,\n",
    "             validation_data = (bottleneck_features_validation,\n",
    "                                np_utils.to_categorical(valid_bottleneck.classes[:len(bottleneck_features_validation)])))"
   ]
  },
  {
   "cell_type": "markdown",
   "metadata": {},
   "source": [
    "## Predict"
   ]
  },
  {
   "cell_type": "code",
   "execution_count": 9,
   "metadata": {
    "collapsed": false
   },
   "outputs": [
    {
     "name": "stdout",
     "output_type": "stream",
     "text": [
      "Found 13153 images belonging to 2 classes.\n"
     ]
    }
   ],
   "source": [
    "test = get_batches(test_path,batch_size=7,shuffle=False)"
   ]
  },
  {
   "cell_type": "code",
   "execution_count": 10,
   "metadata": {
    "collapsed": false
   },
   "outputs": [
    {
     "name": "stdout",
     "output_type": "stream",
     "text": [
      "1879/1879 [==============================] - 292s   \n",
      "CPU times: user 7min 56s, sys: 42.5 s, total: 8min 38s\n",
      "Wall time: 4min 53s\n"
     ]
    }
   ],
   "source": [
    "%%time\n",
    "test_bottleneck_features = model.predict_generator(test, test.samples // 7, verbose=1)"
   ]
  },
  {
   "cell_type": "code",
   "execution_count": 11,
   "metadata": {
    "collapsed": false
   },
   "outputs": [
    {
     "name": "stdout",
     "output_type": "stream",
     "text": [
      "13048/13153 [============================>.] - ETA: 0s"
     ]
    }
   ],
   "source": [
    "preds = mlp_vgg.predict(test_bottleneck_features,batch_size=7,verbose=1)"
   ]
  },
  {
   "cell_type": "code",
   "execution_count": 12,
   "metadata": {
    "collapsed": false
   },
   "outputs": [],
   "source": [
    "preds_dict = dict()\n",
    "for idx, img in enumerate(test.filenames):\n",
    "    name = img.split('/')[1]\n",
    "    tmp = dict()\n",
    "    for i, p in enumerate(preds[idx]):\n",
    "        tmp[i] = p\n",
    "    preds_dict[name] = tmp"
   ]
  },
  {
   "cell_type": "code",
   "execution_count": 13,
   "metadata": {
    "collapsed": false
   },
   "outputs": [],
   "source": [
    "submission = pd.DataFrame.from_dict(preds_dict,orient='index')\n",
    "submission.columns = sorted(list(train_bottleneck.class_indices.keys()))\n",
    "submission.reset_index(level=0, inplace=True)\n",
    "submission.rename(columns={'index':'image'},inplace=True)\n",
    "\n",
    "submission.to_csv('./submission.csv',index=False)"
   ]
  }
 ],
 "metadata": {
  "anaconda-cloud": {},
  "kernelspec": {
   "display_name": "Python [conda env:deepenv]",
   "language": "python",
   "name": "conda-env-deepenv-py"
  },
  "language_info": {
   "codemirror_mode": {
    "name": "ipython",
    "version": 3
   },
   "file_extension": ".py",
   "mimetype": "text/x-python",
   "name": "python",
   "nbconvert_exporter": "python",
   "pygments_lexer": "ipython3",
   "version": "3.5.3"
  }
 },
 "nbformat": 4,
 "nbformat_minor": 1
}
