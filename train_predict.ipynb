{
 "cells": [
  {
   "cell_type": "code",
   "execution_count": 1,
   "metadata": {
    "collapsed": false
   },
   "outputs": [
    {
     "name": "stderr",
     "output_type": "stream",
     "text": [
      "Using TensorFlow backend.\n"
     ]
    }
   ],
   "source": [
    "import os\n",
    "from convnets import *\n",
    "from __future__ import division, print_function\n",
    "\n",
    "%matplotlib inline\n",
    "\n",
    "from keras.backend.tensorflow_backend import set_session\n",
    "\n",
    "config = tf.ConfigProto()\n",
    "config.gpu_options.per_process_gpu_memory_fraction = 0.9\n",
    "set_session(tf.Session(config=config))"
   ]
  },
  {
   "cell_type": "markdown",
   "metadata": {},
   "source": [
    "# The Nature Conservancy: Fisheries Monitoring\n",
    "The Conservancy has invited the Kaggle community to develop algorithms to automatically detect and classify species of tunas, sharks and more that fishing boats catch, which will accelerate the video review process.\n",
    "\n",
    "We will apply transfer learning using the pretrained model VGG16, and replacing the top \"classification\" layers with:\n",
    "- MLP augmented with dropout and batch-normalization\n",
    "- fullcy convolutional classifier"
   ]
  },
  {
   "cell_type": "markdown",
   "metadata": {},
   "source": [
    "## Getting Bottleneck features"
   ]
  },
  {
   "cell_type": "code",
   "execution_count": 2,
   "metadata": {
    "collapsed": true
   },
   "outputs": [],
   "source": [
    "train_path = './train/'\n",
    "valid_path = './valid/'\n",
    "test_path = './test/'\n",
    "batch_size=32"
   ]
  },
  {
   "cell_type": "code",
   "execution_count": 3,
   "metadata": {
    "collapsed": false
   },
   "outputs": [
    {
     "name": "stdout",
     "output_type": "stream",
     "text": [
      "Found 3022 images belonging to 8 classes.\n",
      "Found 755 images belonging to 8 classes.\n"
     ]
    }
   ],
   "source": [
    "model = get_VGG16()\n",
    "train_bottleneck = get_batches(train_path,batch_size=batch_size,shuffle=False)\n",
    "valid_bottleneck = get_batches(valid_path,batch_size=batch_size,shuffle=False)"
   ]
  },
  {
   "cell_type": "code",
   "execution_count": 4,
   "metadata": {
    "collapsed": false
   },
   "outputs": [
    {
     "name": "stdout",
     "output_type": "stream",
     "text": [
      "Getting bottleneck features for train\n",
      "Getting bottleneck features for validation\n",
      "CPU times: user 2min 18s, sys: 14.3 s, total: 2min 32s\n",
      "Wall time: 1min 29s\n"
     ]
    }
   ],
   "source": [
    "%%time\n",
    "print('Getting bottleneck features for train')\n",
    "bottleneck_features_train = model.predict_generator(train_bottleneck, train_bottleneck.samples // batch_size)\n",
    "np.save(open('./initial_files/train_bottleneck.npy', 'wb'), bottleneck_features_train)\n",
    "\n",
    "print('Getting bottleneck features for validation')\n",
    "bottleneck_features_validation = model.predict_generator(valid_bottleneck, valid_bottleneck.samples // batch_size)\n",
    "np.save(open('./initial_files/valid_bottleneck.npy', 'wb'), bottleneck_features_validation)"
   ]
  },
  {
   "cell_type": "markdown",
   "metadata": {},
   "source": [
    "## Fitting\n",
    "#### 1 - MLP augmented with dropout and batch-normalization"
   ]
  },
  {
   "cell_type": "code",
   "execution_count": 5,
   "metadata": {
    "collapsed": false
   },
   "outputs": [
    {
     "name": "stdout",
     "output_type": "stream",
     "text": [
      "_________________________________________________________________\n",
      "Layer (type)                 Output Shape              Param #   \n",
      "=================================================================\n",
      "top_maxpooling (MaxPooling2D (None, 7, 7, 512)         0         \n",
      "_________________________________________________________________\n",
      "batch_normalization_1 (Batch (None, 7, 7, 512)         2048      \n",
      "_________________________________________________________________\n",
      "dropout_1 (Dropout)          (None, 7, 7, 512)         0         \n",
      "_________________________________________________________________\n",
      "top_flatten (Flatten)        (None, 25088)             0         \n",
      "_________________________________________________________________\n",
      "top_relu_1 (Dense)           (None, 512)               12845568  \n",
      "_________________________________________________________________\n",
      "batch_normalization_2 (Batch (None, 512)               2048      \n",
      "_________________________________________________________________\n",
      "dropout_2 (Dropout)          (None, 512)               0         \n",
      "_________________________________________________________________\n",
      "top_relu_2 (Dense)           (None, 512)               262656    \n",
      "_________________________________________________________________\n",
      "batch_normalization_3 (Batch (None, 512)               2048      \n",
      "_________________________________________________________________\n",
      "dropout_3 (Dropout)          (None, 512)               0         \n",
      "_________________________________________________________________\n",
      "dense_1 (Dense)              (None, 8)                 4104      \n",
      "=================================================================\n",
      "Total params: 13,118,472.0\n",
      "Trainable params: 13,115,400.0\n",
      "Non-trainable params: 3,072.0\n",
      "_________________________________________________________________\n"
     ]
    }
   ],
   "source": [
    "mlp_vgg = top_model_vgg(X_shape=(14,14,512),n_classes=train_bottleneck.num_class,dense_neurons=512,lr=0.001,do=0.5)\n",
    "mlp_vgg.summary()"
   ]
  },
  {
   "cell_type": "code",
   "execution_count": 6,
   "metadata": {
    "collapsed": false
   },
   "outputs": [
    {
     "name": "stdout",
     "output_type": "stream",
     "text": [
      "Train on 3008 samples, validate on 736 samples\n",
      "Epoch 1/10\n",
      "3008/3008 [==============================] - 4s - loss: 1.3110 - acc: 0.6273 - val_loss: 0.4399 - val_acc: 0.9035\n",
      "Epoch 2/10\n",
      "3008/3008 [==============================] - 3s - loss: 0.3857 - acc: 0.8920 - val_loss: 0.2462 - val_acc: 0.9402\n",
      "Epoch 3/10\n",
      "3008/3008 [==============================] - 3s - loss: 0.2320 - acc: 0.9312 - val_loss: 0.2233 - val_acc: 0.9592\n",
      "Epoch 4/10\n",
      "3008/3008 [==============================] - 3s - loss: 0.1514 - acc: 0.9558 - val_loss: 0.2035 - val_acc: 0.9606\n",
      "Epoch 5/10\n",
      "3008/3008 [==============================] - 3s - loss: 0.1020 - acc: 0.9678 - val_loss: 0.2308 - val_acc: 0.9606\n",
      "Epoch 6/10\n",
      "3008/3008 [==============================] - 3s - loss: 0.0705 - acc: 0.9751 - val_loss: 0.2722 - val_acc: 0.9565\n",
      "Epoch 7/10\n",
      "3008/3008 [==============================] - 3s - loss: 0.0806 - acc: 0.9761 - val_loss: 0.2463 - val_acc: 0.9633\n",
      "Epoch 8/10\n",
      "3008/3008 [==============================] - 3s - loss: 0.0775 - acc: 0.9814 - val_loss: 0.2619 - val_acc: 0.9565\n",
      "Epoch 9/10\n",
      "3008/3008 [==============================] - 3s - loss: 0.0623 - acc: 0.9837 - val_loss: 0.2325 - val_acc: 0.9620\n",
      "Epoch 10/10\n",
      "3008/3008 [==============================] - 3s - loss: 0.0551 - acc: 0.9820 - val_loss: 0.2484 - val_acc: 0.9579\n"
     ]
    },
    {
     "data": {
      "text/plain": [
       "<keras.callbacks.History at 0x7f39ecdf8a90>"
      ]
     },
     "execution_count": 6,
     "metadata": {},
     "output_type": "execute_result"
    }
   ],
   "source": [
    "mlp_vgg.fit(bottleneck_features_train,\n",
    "          np_utils.to_categorical(train_bottleneck.classes[:len(bottleneck_features_train)]),\n",
    "          epochs = 10,\n",
    "          batch_size = batch_size,\n",
    "          validation_data = (bottleneck_features_validation,\n",
    "                             np_utils.to_categorical(valid_bottleneck.classes[:len(bottleneck_features_validation)])))"
   ]
  },
  {
   "cell_type": "markdown",
   "metadata": {},
   "source": [
    "#### 2 - Fully onvolutional layers"
   ]
  },
  {
   "cell_type": "code",
   "execution_count": 7,
   "metadata": {
    "collapsed": false
   },
   "outputs": [
    {
     "name": "stdout",
     "output_type": "stream",
     "text": [
      "_________________________________________________________________\n",
      "Layer (type)                 Output Shape              Param #   \n",
      "=================================================================\n",
      "batch_normalization_4 (Batch (None, 14, 14, 512)       2048      \n",
      "_________________________________________________________________\n",
      "conv2d_1 (Conv2D)            (None, 14, 14, 256)       1179904   \n",
      "_________________________________________________________________\n",
      "batch_normalization_5 (Batch (None, 14, 14, 256)       1024      \n",
      "_________________________________________________________________\n",
      "conv2d_2 (Conv2D)            (None, 14, 14, 256)       590080    \n",
      "_________________________________________________________________\n",
      "batch_normalization_6 (Batch (None, 14, 14, 256)       1024      \n",
      "_________________________________________________________________\n",
      "conv2d_3 (Conv2D)            (None, 14, 14, 256)       590080    \n",
      "_________________________________________________________________\n",
      "batch_normalization_7 (Batch (None, 14, 14, 256)       1024      \n",
      "_________________________________________________________________\n",
      "conv2d_4 (Conv2D)            (None, 14, 14, 8)         18440     \n",
      "_________________________________________________________________\n",
      "dropout_4 (Dropout)          (None, 14, 14, 8)         0         \n",
      "_________________________________________________________________\n",
      "global_average_pooling2d_1 ( (None, 8)                 0         \n",
      "_________________________________________________________________\n",
      "activation_1 (Activation)    (None, 8)                 0         \n",
      "=================================================================\n",
      "Total params: 2,383,624.0\n",
      "Trainable params: 2,381,064.0\n",
      "Non-trainable params: 2,560.0\n",
      "_________________________________________________________________\n"
     ]
    }
   ],
   "source": [
    "model_fc = heat_layers(X_shape=(14,14,512),n_classes=train_bottleneck.num_class,n_fm=256,do=0.5,lr=0.001)\n",
    "model_fc.summary()"
   ]
  },
  {
   "cell_type": "code",
   "execution_count": 8,
   "metadata": {
    "collapsed": false
   },
   "outputs": [
    {
     "name": "stdout",
     "output_type": "stream",
     "text": [
      "Train on 3008 samples, validate on 736 samples\n",
      "Epoch 1/10\n",
      "3008/3008 [==============================] - 8s - loss: 0.9084 - acc: 0.7241 - val_loss: 1.4166 - val_acc: 0.6807\n",
      "Epoch 2/10\n",
      "3008/3008 [==============================] - 7s - loss: 0.3068 - acc: 0.9003 - val_loss: 0.5342 - val_acc: 0.8859\n",
      "Epoch 3/10\n",
      "3008/3008 [==============================] - 7s - loss: 0.1516 - acc: 0.9525 - val_loss: 0.3496 - val_acc: 0.9307\n",
      "Epoch 4/10\n",
      "3008/3008 [==============================] - 7s - loss: 0.1002 - acc: 0.9688 - val_loss: 0.3930 - val_acc: 0.9158\n",
      "Epoch 5/10\n",
      "3008/3008 [==============================] - 7s - loss: 0.1005 - acc: 0.9688 - val_loss: 0.3421 - val_acc: 0.9280\n",
      "Epoch 6/10\n",
      "3008/3008 [==============================] - 7s - loss: 0.0512 - acc: 0.9837 - val_loss: 0.3356 - val_acc: 0.9361\n",
      "Epoch 7/10\n",
      "3008/3008 [==============================] - 7s - loss: 0.0331 - acc: 0.9894 - val_loss: 0.3289 - val_acc: 0.9361\n",
      "Epoch 8/10\n",
      "3008/3008 [==============================] - 7s - loss: 0.0487 - acc: 0.9840 - val_loss: 0.3611 - val_acc: 0.9361\n",
      "Epoch 9/10\n",
      "3008/3008 [==============================] - 7s - loss: 0.0440 - acc: 0.9860 - val_loss: 0.2783 - val_acc: 0.9457\n",
      "Epoch 10/10\n",
      "3008/3008 [==============================] - 7s - loss: 0.0384 - acc: 0.9894 - val_loss: 0.4813 - val_acc: 0.9280\n"
     ]
    },
    {
     "data": {
      "text/plain": [
       "<keras.callbacks.History at 0x7f396b6b5ef0>"
      ]
     },
     "execution_count": 8,
     "metadata": {},
     "output_type": "execute_result"
    }
   ],
   "source": [
    "model_fc.fit(bottleneck_features_train,\n",
    "             np_utils.to_categorical(train_bottleneck.classes[:len(bottleneck_features_train)]),\n",
    "             epochs = 10,\n",
    "             batch_size = batch_size,\n",
    "             validation_data = (bottleneck_features_validation,\n",
    "                                np_utils.to_categorical(valid_bottleneck.classes[:len(bottleneck_features_validation)])))"
   ]
  },
  {
   "cell_type": "markdown",
   "metadata": {},
   "source": [
    "## Predict"
   ]
  },
  {
   "cell_type": "code",
   "execution_count": null,
   "metadata": {
    "collapsed": false
   },
   "outputs": [
    {
     "name": "stdout",
     "output_type": "stream",
     "text": [
      "Found 13153 images belonging to 2 classes.\n"
     ]
    }
   ],
   "source": [
    "test = get_batches(test_path,batch_size=7,shuffle=False)"
   ]
  },
  {
   "cell_type": "code",
   "execution_count": null,
   "metadata": {
    "collapsed": false
   },
   "outputs": [
    {
     "name": "stdout",
     "output_type": "stream",
     "text": [
      "  94/1879 [>.............................] - ETA: 321s"
     ]
    }
   ],
   "source": [
    "%%time\n",
    "test_bottleneck_features = model.predict_generator(test, test.samples // 7, verbose=1)"
   ]
  },
  {
   "cell_type": "code",
   "execution_count": null,
   "metadata": {
    "collapsed": false
   },
   "outputs": [],
   "source": [
    "preds = mlp_vgg.predict(test_bottleneck_features,batch_size=7,verbose=1)"
   ]
  },
  {
   "cell_type": "code",
   "execution_count": null,
   "metadata": {
    "collapsed": false
   },
   "outputs": [],
   "source": [
    "preds_dict = dict()\n",
    "for idx, img in enumerate(test.filenames):\n",
    "    name = img.split('/')[1]\n",
    "    tmp = dict()\n",
    "    for i, p in enumerate(preds[idx]):\n",
    "        tmp[i] = p\n",
    "    preds_dict[name] = tmp"
   ]
  },
  {
   "cell_type": "code",
   "execution_count": null,
   "metadata": {
    "collapsed": false
   },
   "outputs": [],
   "source": [
    "submission = pd.DataFrame.from_dict(preds_dict,orient='index')\n",
    "submission.columns = sorted(list(train_bottleneck.class_indices.keys()))\n",
    "submission.reset_index(level=0, inplace=True)\n",
    "submission.rename(columns={'index':'image'},inplace=True)\n",
    "\n",
    "submission.to_csv('./submission.csv',index=False)"
   ]
  },
  {
   "cell_type": "code",
   "execution_count": null,
   "metadata": {
    "collapsed": true
   },
   "outputs": [],
   "source": []
  }
 ],
 "metadata": {
  "anaconda-cloud": {},
  "kernelspec": {
   "display_name": "Python [conda env:deepenv]",
   "language": "python",
   "name": "conda-env-deepenv-py"
  },
  "language_info": {
   "codemirror_mode": {
    "name": "ipython",
    "version": 3
   },
   "file_extension": ".py",
   "mimetype": "text/x-python",
   "name": "python",
   "nbconvert_exporter": "python",
   "pygments_lexer": "ipython3",
   "version": "3.5.3"
  }
 },
 "nbformat": 4,
 "nbformat_minor": 1
}
